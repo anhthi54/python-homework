{
 "cells": [
  {
   "cell_type": "code",
   "execution_count": 43,
   "id": "626fc9a3-a452-4887-8ace-98d0b73f8a28",
   "metadata": {},
   "outputs": [],
   "source": [
    "from pathlib import Path\n",
    "import csv\n",
    "csvpath = Path(\"./budget_data.csv\")\n",
    "date = []\n",
    "pl = []\n",
    "\n",
    "with open(csvpath, \"r\") as csvfile:\n",
    "    csvreader = csv.reader(csvfile, delimiter=\",\")\n",
    "    csv_header = next(csvreader)\n",
    "       \n",
    "# Total number of months\n",
    "    mylist = list(csvreader)\n",
    "    No_months = len(mylist)\n",
    "    title = \"Financial Analysis\"\n",
    "    line_break = \"---------------------\"\n",
    "    no_month = f\"Total Months: {No_months}\"\n",
    "# Total profit\n",
    "    total = 0\n",
    "    for row in mylist:\n",
    "        total += int(row[1])\n",
    "    toal = f\"Total: {total}\"\n",
    "# The average of the changes in Profit/Losses over the entire period\n",
    "    avg_profit_change = round((int(mylist[-1][1]) - int(mylist[0][1])) / (No_months - 1) , 2)\n",
    "    average_change = f\"Average  Change: ${avg_profit_change}\"\n"
   ]
  },
  {
   "cell_type": "code",
   "execution_count": 51,
   "id": "d512e316-feb1-4ebe-bed8-3ae3732ebf3e",
   "metadata": {},
   "outputs": [
    {
     "name": "stdout",
     "output_type": "stream",
     "text": [
      "Financial Analysis\n",
      "---------------------\n",
      "Total Months: 86\n",
      "Total: $38382578\n",
      "Average  Change: $-2315.12\n",
      "Greatest Increase in Profits: Feb-2012 ($1926159)\n",
      "Greatest Decrease in Profits: Sep-2013 ($-2196167)\n"
     ]
    }
   ],
   "source": [
    "# The greatest increase/decrease in profits (date and amount) over the entire period.\n",
    "\n",
    "v = 0\n",
    "\n",
    "with open(csvpath, \"r\") as csvfile:\n",
    "    csvreader = csv.reader(csvfile, delimiter=\",\")\n",
    "    csv_header = next(csvreader)\n",
    "    first_row = next(csvreader)\n",
    "    v = int(first_row[1])\n",
    "    for r in csvreader:\n",
    "        date.append(r[0])\n",
    "        dif = int(r[1]) - v\n",
    "        pl.append(dif)\n",
    "        v = int(r[1])\n",
    "      \n",
    "    \n",
    "    \n",
    "\n",
    "    greatest_profit_increase = max(pl)\n",
    "    date_max = date[pl.index(greatest_profit_increase)]\n",
    "    greatest_profit_decrease = min(pl)\n",
    "    date_min = date[pl.index(greatest_profit_decrease)]\n",
    "    print(f\"{title}\")\n",
    "\n",
    "    print(f\"{line_break}\")\n",
    "\n",
    "    print(f\"{no_month}\")\n",
    "\n",
    "    print(f\"Total: ${total}\")\n",
    "\n",
    "    print(f\"{average_change}\")\n",
    "\n",
    "    print(f\"Greatest Increase in Profits: {date_max} (${greatest_profit_increase})\")\n",
    "\n",
    "    print(f\"Greatest Decrease in Profits: {date_min} (${greatest_profit_decrease})\")\n",
    "        \n",
    "        \n",
    "output = Path(\"output.txt\")\n",
    "with open(output, 'w') as file:   \n",
    "    file.write(f\"{title}\\n\")  \n",
    "    file.write(f\"{line_break}\\n\")\n",
    "    file.write(f\"{no_month}\\n\")\n",
    "    file.write(f\"Total: ${total}\\n\")\n",
    "    file.write(f\"{average_change}\\n\")\n",
    "    file.write(f\"Greatest Increase in Profits: {date_max} (${greatest_profit_increase})\\n\")\n",
    "    file.write(f\"Greatest Decrease in Profits: {date_min} (${greatest_profit_decrease})\\n\")"
   ]
  },
  {
   "cell_type": "code",
   "execution_count": null,
   "id": "e71bdb85-58ed-46c8-b68b-14e8d54d699d",
   "metadata": {},
   "outputs": [],
   "source": [
    "\n",
    "\n",
    "        \n",
    "        \n",
    "    \n",
    "        \n",
    "        \n",
    "        \n",
    "      "
   ]
  },
  {
   "cell_type": "code",
   "execution_count": null,
   "id": "39088569-16ae-4714-a88b-6c88d16ec0dd",
   "metadata": {},
   "outputs": [],
   "source": [
    "\n",
    "    "
   ]
  }
 ],
 "metadata": {
  "kernelspec": {
   "display_name": "Python 3",
   "language": "python",
   "name": "python3"
  },
  "language_info": {
   "codemirror_mode": {
    "name": "ipython",
    "version": 3
   },
   "file_extension": ".py",
   "mimetype": "text/x-python",
   "name": "python",
   "nbconvert_exporter": "python",
   "pygments_lexer": "ipython3",
   "version": "3.8.8"
  }
 },
 "nbformat": 4,
 "nbformat_minor": 5
}
